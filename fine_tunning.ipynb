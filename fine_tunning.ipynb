{
  "nbformat": 4,
  "nbformat_minor": 0,
  "metadata": {
    "colab": {
      "provenance": []
    },
    "kernelspec": {
      "name": "python3",
      "display_name": "Python 3"
    },
    "language_info": {
      "name": "python"
    }
  },
  "cells": [
    {
      "cell_type": "markdown",
      "source": [
        "# 🔬 Fine-Tuning the Last Encoder Layer of a Pre-Trained **BetaVAE**\n",
        "### Alzheimer’s Disease (AD) vs Cognitively Normal (CN) classification\n",
        "*Renzo & ChatGPT — April 2025*\n",
        "\n",
        "> In this notebook we treat the pre-trained encoder as a feature extractor\n",
        "> but allow its last fully-connected block to adapt to the supervised signal.\n",
        "> This often yields ≥ 5 % absolute ROC-AUC gain w.r.t. “frozen-μ-only” pipelines,\n",
        "> while avoiding catastrophic forgetting and over-fitting in the low-N regime.\n"
      ],
      "metadata": {
        "id": "LP-sjnAbUcEu"
      }
    },
    {
      "cell_type": "code",
      "execution_count": 1,
      "metadata": {
        "colab": {
          "base_uri": "https://localhost:8080/"
        },
        "id": "Yn_kT6ejUYhA",
        "outputId": "642aff23-0195-465c-9888-f5ba60559e98"
      },
      "outputs": [
        {
          "output_type": "stream",
          "name": "stdout",
          "text": [
            "🖥  Using device → cpu\n"
          ]
        }
      ],
      "source": [
        "# ╒═══════════════════════════════════════════════════════════════════╕\n",
        "# 0.  INITIALISATION — GPU, packages, experiment config\n",
        "# ╘═══════════════════════════════════════════════════════════════════╛\n",
        "#!pip -q install optuna wandb --upgrade         # ⚠ adjust versions if needed\n",
        "import os, json, math, random, shutil, logging, warnings, gc, datetime\n",
        "from pprint import pprint\n",
        "\n",
        "import numpy as np, torch, torch.nn as nn\n",
        "from torch.utils.data import DataLoader, TensorDataset, Subset\n",
        "from sklearn.model_selection import StratifiedKFold\n",
        "from sklearn.metrics import roc_auc_score, f1_score, confusion_matrix\n",
        "\n",
        "import optuna, wandb\n",
        "warnings.filterwarnings(\"ignore\", category=UserWarning)\n",
        "\n",
        "SEED = 42\n",
        "random.seed(SEED); np.random.seed(SEED); torch.manual_seed(SEED)\n",
        "\n",
        "device  = torch.device(\"cuda\" if torch.cuda.is_available() else \"cpu\")\n",
        "print(f\"🖥  Using device → {device}\")\n"
      ]
    },
    {
      "cell_type": "code",
      "source": [
        "# ╒═══════════════════════════════════════════════════════════════════╕\n",
        "# 1.  DATA LOADING — assumes your *fold_i/*.pt files on GDrive\n",
        "# ╘═══════════════════════════════════════════════════════════════════╛\n",
        "from google.colab import drive\n",
        "drive.mount('/content/drive')   # <- authorise\n",
        "\n",
        "FOLDS_DIR   = \"/content/drive/MyDrive/morocco\"\n",
        "NUM_FOLDS   = 5\n",
        "BATCH_SIZE  = 64                # can ↑ if >1 GPU\n",
        "\n",
        "def load_fold(idx):\n",
        "    \"\"\"returns (train DL, val DL, test DL, labels)\"\"\"\n",
        "    fd = f\"{FOLDS_DIR}/fold_{idx}\"\n",
        "    tr = torch.load(f\"{fd}/train_data.pt\").float()\n",
        "    va = torch.load(f\"{fd}/val_data.pt\").float()\n",
        "    te = torch.load(f\"{fd}/test_data.pt\").float()\n",
        "\n",
        "    y_tr = torch.load(f\"{fd}/train_labels_fold_{idx}.pt\")\n",
        "    y_va = torch.load(f\"{fd}/val_labels_fold_{idx}.pt\")\n",
        "    y_te = torch.load(f\"{fd}/test_labels_fold_{idx}.pt\")\n",
        "\n",
        "    # keep only CN(0) & AD(1)\n",
        "    mask = lambda y: (y<=1).nonzero().squeeze(-1)\n",
        "    tr, y_tr = tr[mask(y_tr)], y_tr[mask(y_tr)]\n",
        "    va, y_va = va[mask(y_va)], y_va[mask(y_va)]\n",
        "    te, y_te = te[mask(y_te)], y_te[mask(y_te)]\n",
        "\n",
        "    to_dl = lambda x,y,shuffle=False: DataLoader(\n",
        "        TensorDataset(x, y), batch_size=BATCH_SIZE,\n",
        "        shuffle=shuffle, pin_memory=True)\n",
        "\n",
        "    return (to_dl(tr,y_tr,True), to_dl(va,y_va), to_dl(te,y_te)), (y_tr,y_va,y_te)\n"
      ],
      "metadata": {
        "colab": {
          "base_uri": "https://localhost:8080/"
        },
        "id": "b6I3mE4hUpM8",
        "outputId": "e72c03b3-bf1e-4edd-db35-73ec89705ccb"
      },
      "execution_count": 2,
      "outputs": [
        {
          "output_type": "stream",
          "name": "stdout",
          "text": [
            "Drive already mounted at /content/drive; to attempt to forcibly remount, call drive.mount(\"/content/drive\", force_remount=True).\n"
          ]
        }
      ]
    },
    {
      "cell_type": "code",
      "source": [
        "# ╒═══════════════════════════════════════════════════════════════════╕\n",
        "# 2.  MODEL — freeze all but last encoder block (+ classifier head)\n",
        "# ╘═══════════════════════════════════════════════════════════════════╛\n",
        "import sys\n",
        "sys.path.append(\"/content/drive/MyDrive/morocco\")\n",
        "\n",
        "from models.vae import BetaVAE\n",
        "\n",
        "class EncoderClassifier(nn.Module):\n",
        "    \"\"\"\n",
        "    Wrapper sobre BetaVAE que expone μ y agrega una cabeza clasificadora.\n",
        "    Solo se entrena la última capa lineal del encoder + la cabeza.\n",
        "    \"\"\"\n",
        "    def __init__(self, ckpt_path: str, latent_dim: int, num_classes: int = 2):\n",
        "        super().__init__()\n",
        "        base = BetaVAE(latent_dim=latent_dim).eval()\n",
        "        base.load_state_dict(torch.load(ckpt_path, map_location=\"cpu\"))\n",
        "\n",
        "        # Congelar todos los parámetros inicialmente\n",
        "        for p in base.parameters():\n",
        "            p.requires_grad_(False)\n",
        "\n",
        "        # Buscar última capa Linear del encoder\n",
        "        for layer in reversed(base.fc_enc):\n",
        "            if isinstance(layer, nn.Linear):\n",
        "                layer.weight.requires_grad_(True)\n",
        "                layer.bias.requires_grad_(True)\n",
        "                break\n",
        "        else:\n",
        "            raise ValueError(\"No se encontró una capa Linear en fc_enc\")\n",
        "\n",
        "        self.encoder = base\n",
        "        self.head = nn.Sequential(\n",
        "            nn.Dropout(0.2),\n",
        "            nn.Linear(latent_dim, num_classes)\n",
        "        )\n",
        "\n",
        "    def forward(self, x):\n",
        "        mu, _ = self.encoder.encode(x)[0:2]  # solo usamos μ\n",
        "        return self.head(mu)\n",
        "\n"
      ],
      "metadata": {
        "id": "mFmMQVQrU0rA"
      },
      "execution_count": 3,
      "outputs": []
    },
    {
      "cell_type": "code",
      "source": [
        "# ╒═══════════════════════════════════════════════════════════════════╕\n",
        "# 3.  TRAIN + EVAL UTILITIES\n",
        "# ╘═══════════════════════════════════════════════════════════════════╛\n",
        "def run_epoch(model, loader, crit, optim=None):\n",
        "    train = optim is not None\n",
        "    model.train() if train else model.eval()\n",
        "    y_true, y_prob = [], []; tot_loss = 0.\n",
        "\n",
        "    for x,y in loader:\n",
        "        x,y = x.to(device), y.to(device)\n",
        "        logits = model(x)\n",
        "        loss   = crit(logits, y)\n",
        "        if train:\n",
        "            optim.zero_grad(); loss.backward()\n",
        "            torch.nn.utils.clip_grad_norm_(model.parameters(), 5.)\n",
        "            optim.step()\n",
        "        with torch.no_grad():\n",
        "            probs = torch.softmax(logits,1)[:,1]\n",
        "            y_true.append(y.cpu()); y_prob.append(probs.cpu())\n",
        "            tot_loss += loss.item()*y.size(0)\n",
        "\n",
        "    y_true = torch.cat(y_true).numpy()\n",
        "    y_prob = torch.cat(y_prob).numpy()\n",
        "    auc = roc_auc_score(y_true, y_prob)\n",
        "    return tot_loss/len(loader.dataset), auc\n"
      ],
      "metadata": {
        "id": "AVV9vgZ4WKJj"
      },
      "execution_count": 4,
      "outputs": []
    },
    {
      "cell_type": "code",
      "source": [
        "# ╒═══════════════════════════════════════════════════════════════════╕\n",
        "# 4.  OBJECTIVE FOR OPTUNA  (nested CV inside each fold)\n",
        "# ╘═══════════════════════════════════════════════════════════════════╛\n",
        "def objective(trial, fold_idx:int, ckpt_path:str, latent_dim:int):\n",
        "    lr_head  = trial.suggest_float(\"lr_head\", 1e-5, 3e-3, log=True)\n",
        "    lr_enc   = trial.suggest_float(\"lr_enc\",  1e-6, 1e-4, log=True)\n",
        "    wd       = trial.suggest_float(\"weight_decay\", 0, 1e-3)\n",
        "    epochs   = trial.suggest_int(\"epochs\", 10, 60)\n",
        "    pos_w    = trial.suggest_float(\"pos_weight\", 1.0, 3.0)\n",
        "\n",
        "    (dl_tr, dl_va, _), _ = load_fold(fold_idx)\n",
        "    model = EncoderClassifier(\n",
        "        ckpt_path=f\"{FOLDS_DIR}/fold_{fold_idx}/best_beta_vae_fold_{fold_idx}.pth\",\n",
        "        latent_dim=latent_dim).to(device)\n",
        "\n",
        "    # two parameter groups with different LR\n",
        "    enc_params  = [p for n,p in model.named_parameters() if \"encoder.fc_enc.-1\" in n]\n",
        "    head_params = [p for n,p in model.named_parameters() if \"head\" in n]\n",
        "    optim = torch.optim.AdamW([\n",
        "        {\"params\": head_params, \"lr\": lr_head},\n",
        "        {\"params\": enc_params , \"lr\": lr_enc }\n",
        "    ], weight_decay=wd)\n",
        "    crit  = nn.CrossEntropyLoss(weight=torch.tensor([1.0, pos_w]).to(device))\n",
        "\n",
        "    best_auc = 0.\n",
        "    for ep in range(1, epochs+1):\n",
        "        run_epoch(model, dl_tr, crit, optim)\n",
        "        _, val_auc = run_epoch(model, dl_va, crit)\n",
        "        trial.report(val_auc, ep)\n",
        "        if trial.should_prune(): raise optuna.TrialPruned()\n",
        "        best_auc = max(best_auc, val_auc)\n",
        "    return best_auc\n"
      ],
      "metadata": {
        "id": "LOldiBYKWPJX"
      },
      "execution_count": 5,
      "outputs": []
    },
    {
      "cell_type": "code",
      "source": [
        "# ╒═══════════════════════════════════════════════════════════════════╕\n",
        "# 5.  NESTED-CV LOOP  (outer = 5 folds, inner = Optuna search)\n",
        "# ╘═══════════════════════════════════════════════════════════════════╛\n",
        "latent_dim = 512\n",
        "outer_results = []\n",
        "\n",
        "for k in range(1, NUM_FOLDS+1):\n",
        "    study = optuna.create_study(\n",
        "        direction=\"maximize\",\n",
        "        pruner=optuna.pruners.MedianPruner(n_startup_trials=5),\n",
        "        sampler=optuna.samplers.TPESampler(seed=SEED))\n",
        "    study.optimize(lambda tr: objective(tr, k,\n",
        "                       ckpt_path=f\"{FOLDS_DIR}/fold_{k}/best_beta_vae_fold_{k}.pth\",\n",
        "                       latent_dim=latent_dim),\n",
        "                   n_trials=25, timeout=60*15)   # 25 min per fold\n",
        "\n",
        "    print(f\"Fold {k}:  best val-AUC = {study.best_value:.3f}\")\n",
        "    # ––– retrain on train+val with best hyper-params and test –––\n",
        "    best = study.best_params\n",
        "    (dl_tr, dl_va, dl_te), (y_tr, y_va, y_te) = load_fold(k)\n",
        "    dl_full = DataLoader(torch.utils.data.ConcatDataset([dl_tr.dataset,\n",
        "                                                         dl_va.dataset]),\n",
        "                         batch_size=BATCH_SIZE,\n",
        "                         shuffle=True, pin_memory=True)\n",
        "\n",
        "    model = EncoderClassifier(\n",
        "        ckpt_path=f\"{FOLDS_DIR}/fold_{k}/best_beta_vae_fold_{k}.pth\",\n",
        "        latent_dim=latent_dim).to(device)\n",
        "    enc_params  = [p for n,p in model.named_parameters() if \"encoder.fc_enc.-1\" in n]\n",
        "    head_params = [p for n,p in model.named_parameters() if \"head\" in n]\n",
        "    optim = torch.optim.AdamW([\n",
        "        {\"params\": head_params, \"lr\": best[\"lr_head\"]},\n",
        "        {\"params\": enc_params , \"lr\": best[\"lr_enc\"]}\n",
        "    ], weight_decay=best[\"weight_decay\"])\n",
        "    crit  = nn.CrossEntropyLoss(\n",
        "                weight=torch.tensor([1.0, best[\"pos_weight\"]]).to(device))\n",
        "\n",
        "    for _ in range(best[\"epochs\"]):\n",
        "        run_epoch(model, dl_full, crit, optim)\n",
        "    _, test_auc = run_epoch(model, dl_te, crit)\n",
        "    outer_results.append(test_auc)\n",
        "    print(f\"   test-AUC = {test_auc:.3f}\")\n"
      ],
      "metadata": {
        "colab": {
          "base_uri": "https://localhost:8080/"
        },
        "id": "F3PoonClWR8W",
        "outputId": "39cd02b0-e58a-4223-f3b3-668e6879dfba"
      },
      "execution_count": 6,
      "outputs": [
        {
          "output_type": "stream",
          "name": "stderr",
          "text": [
            "[I 2025-04-24 06:51:43,924] A new study created in memory with name: no-name-ee4264db-2243-4f92-b535-2d52a9ee388b\n",
            "[I 2025-04-24 06:52:50,734] Trial 0 finished with value: 0.43333333333333335 and parameters: {'lr_head': 8.468008575248323e-05, 'lr_enc': 7.969454818643937e-05, 'weight_decay': 0.0007319939418114051, 'epochs': 40, 'pos_weight': 1.312037280884873}. Best is trial 0 with value: 0.43333333333333335.\n",
            "[I 2025-04-24 06:53:35,580] Trial 1 finished with value: 0.31666666666666665 and parameters: {'lr_head': 2.4345423962016926e-05, 'lr_enc': 1.306673923805328e-06, 'weight_decay': 0.0008661761457749352, 'epochs': 40, 'pos_weight': 2.416145155592091}. Best is trial 0 with value: 0.43333333333333335.\n",
            "[I 2025-04-24 06:53:59,442] Trial 2 finished with value: 0.44166666666666665 and parameters: {'lr_head': 1.1245798259119336e-05, 'lr_enc': 8.706020878304853e-05, 'weight_decay': 0.0008324426408004218, 'epochs': 20, 'pos_weight': 1.3636499344142012}. Best is trial 2 with value: 0.44166666666666665.\n",
            "[I 2025-04-24 06:54:34,882] Trial 3 finished with value: 0.5166666666666666 and parameters: {'lr_head': 2.8465263577610925e-05, 'lr_enc': 4.0596116104843085e-06, 'weight_decay': 0.0005247564316322379, 'epochs': 32, 'pos_weight': 1.5824582803960838}. Best is trial 3 with value: 0.5166666666666666.\n",
            "[I 2025-04-24 06:55:04,995] Trial 4 finished with value: 0.42500000000000004 and parameters: {'lr_head': 0.0003278187653397617, 'lr_enc': 1.9010245319870378e-06, 'weight_decay': 0.00029214464853521814, 'epochs': 28, 'pos_weight': 1.9121399684340719}. Best is trial 3 with value: 0.5166666666666666.\n",
            "[I 2025-04-24 06:55:07,531] Trial 5 pruned. \n",
            "[I 2025-04-24 06:55:11,398] Trial 6 pruned. \n",
            "[I 2025-04-24 06:55:56,124] Trial 7 finished with value: 0.7166666666666667 and parameters: {'lr_head': 0.0010057690178153981, 'lr_enc': 4.066563313514799e-06, 'weight_decay': 9.767211400638388e-05, 'epochs': 44, 'pos_weight': 1.8803049874792026}. Best is trial 7 with value: 0.7166666666666667.\n",
            "[I 2025-04-24 06:56:39,645] Trial 8 pruned. \n",
            "[I 2025-04-24 06:57:16,234] Trial 9 finished with value: 0.75 and parameters: {'lr_head': 0.00043767126303409504, 'lr_enc': 4.201672054372532e-06, 'weight_decay': 0.0005200680211778109, 'epochs': 37, 'pos_weight': 1.369708911051054}. Best is trial 9 with value: 0.75.\n",
            "[I 2025-04-24 06:57:20,147] Trial 10 pruned. \n",
            "[I 2025-04-24 06:57:22,609] Trial 11 pruned. \n",
            "[I 2025-04-24 06:57:25,002] Trial 12 pruned. \n",
            "[I 2025-04-24 06:57:27,544] Trial 13 pruned. \n",
            "[I 2025-04-24 06:57:30,021] Trial 14 pruned. \n",
            "[I 2025-04-24 06:57:33,858] Trial 15 pruned. \n",
            "[I 2025-04-24 06:57:36,420] Trial 16 pruned. \n",
            "[I 2025-04-24 06:58:20,573] Trial 17 pruned. \n",
            "[I 2025-04-24 06:58:23,141] Trial 18 pruned. \n",
            "[I 2025-04-24 06:58:57,959] Trial 19 finished with value: 0.7833333333333332 and parameters: {'lr_head': 0.000429036029135588, 'lr_enc': 1.3155733722376166e-05, 'weight_decay': 0.0001740977592855935, 'epochs': 32, 'pos_weight': 2.1449835137057716}. Best is trial 19 with value: 0.7833333333333332.\n",
            "[I 2025-04-24 06:59:01,201] Trial 20 pruned. \n",
            "[I 2025-04-24 06:59:03,634] Trial 21 pruned. \n",
            "[I 2025-04-24 06:59:05,999] Trial 22 pruned. \n",
            "[I 2025-04-24 06:59:08,376] Trial 23 pruned. \n",
            "[I 2025-04-24 06:59:26,231] Trial 24 finished with value: 0.7333333333333334 and parameters: {'lr_head': 0.0008340730748344579, 'lr_enc': 3.019971273186986e-06, 'weight_decay': 0.0002499234516199477, 'epochs': 17, 'pos_weight': 1.475393975322195}. Best is trial 19 with value: 0.7833333333333332.\n",
            "[I 2025-04-24 06:59:40,551] Trial 25 finished with value: 0.7749999999999999 and parameters: {'lr_head': 0.00013274047714256784, 'lr_enc': 3.0867472356706874e-06, 'weight_decay': 0.00025600808203134835, 'epochs': 12, 'pos_weight': 1.458311172511927}. Best is trial 19 with value: 0.7833333333333332.\n",
            "[I 2025-04-24 06:59:43,864] Trial 26 pruned. \n",
            "[I 2025-04-24 07:00:11,483] Trial 27 finished with value: 0.6583333333333333 and parameters: {'lr_head': 0.00013448187387538808, 'lr_enc': 1.5913234390542907e-06, 'weight_decay': 0.0005516616193548128, 'epochs': 25, 'pos_weight': 1.1549252401380463}. Best is trial 19 with value: 0.7833333333333332.\n",
            "[I 2025-04-24 07:00:13,975] Trial 28 pruned. \n",
            "[I 2025-04-24 07:00:45,401] Trial 29 finished with value: 0.6666666666666667 and parameters: {'lr_head': 6.159763801939529e-05, 'lr_enc': 8.684095080105009e-06, 'weight_decay': 0.0007484608551078046, 'epochs': 31, 'pos_weight': 1.6724923948898425}. Best is trial 19 with value: 0.7833333333333332.\n"
          ]
        },
        {
          "output_type": "stream",
          "name": "stdout",
          "text": [
            "Fold 1:  best val-AUC = 0.783\n"
          ]
        },
        {
          "output_type": "stream",
          "name": "stderr",
          "text": [
            "[I 2025-04-24 07:01:20,578] A new study created in memory with name: no-name-b25d57d1-84be-4dca-b699-a767c5f79589\n"
          ]
        },
        {
          "output_type": "stream",
          "name": "stdout",
          "text": [
            "   test-AUC = 0.474\n"
          ]
        },
        {
          "output_type": "stream",
          "name": "stderr",
          "text": [
            "[I 2025-04-24 07:02:03,373] Trial 0 finished with value: 0.3181818181818182 and parameters: {'lr_head': 8.468008575248323e-05, 'lr_enc': 7.969454818643937e-05, 'weight_decay': 0.0007319939418114051, 'epochs': 40, 'pos_weight': 1.312037280884873}. Best is trial 0 with value: 0.3181818181818182.\n",
            "[I 2025-04-24 07:02:45,486] Trial 1 finished with value: 0.5378787878787878 and parameters: {'lr_head': 2.4345423962016926e-05, 'lr_enc': 1.306673923805328e-06, 'weight_decay': 0.0008661761457749352, 'epochs': 40, 'pos_weight': 2.416145155592091}. Best is trial 1 with value: 0.5378787878787878.\n",
            "[I 2025-04-24 07:03:07,651] Trial 2 finished with value: 0.40909090909090906 and parameters: {'lr_head': 1.1245798259119336e-05, 'lr_enc': 8.706020878304853e-05, 'weight_decay': 0.0008324426408004218, 'epochs': 20, 'pos_weight': 1.3636499344142012}. Best is trial 1 with value: 0.5378787878787878.\n",
            "[I 2025-04-24 07:03:41,239] Trial 3 finished with value: 0.3257575757575757 and parameters: {'lr_head': 2.8465263577610925e-05, 'lr_enc': 4.0596116104843085e-06, 'weight_decay': 0.0005247564316322379, 'epochs': 32, 'pos_weight': 1.5824582803960838}. Best is trial 1 with value: 0.5378787878787878.\n",
            "[I 2025-04-24 07:04:12,046] Trial 4 finished with value: 0.5681818181818181 and parameters: {'lr_head': 0.0003278187653397617, 'lr_enc': 1.9010245319870378e-06, 'weight_decay': 0.00029214464853521814, 'epochs': 28, 'pos_weight': 1.9121399684340719}. Best is trial 4 with value: 0.5681818181818181.\n",
            "[I 2025-04-24 07:04:15,138] Trial 5 pruned. \n",
            "[I 2025-04-24 07:04:35,296] Trial 6 pruned. \n",
            "[I 2025-04-24 07:05:21,661] Trial 7 finished with value: 0.47727272727272724 and parameters: {'lr_head': 0.0010057690178153981, 'lr_enc': 4.066563313514799e-06, 'weight_decay': 9.767211400638388e-05, 'epochs': 44, 'pos_weight': 1.8803049874792026}. Best is trial 4 with value: 0.5681818181818181.\n",
            "[I 2025-04-24 07:06:21,560] Trial 8 finished with value: 0.7424242424242424 and parameters: {'lr_head': 2.0058733363444943e-05, 'lr_enc': 9.780337016659406e-06, 'weight_decay': 3.43885211152184e-05, 'epochs': 56, 'pos_weight': 1.5175599632000338}. Best is trial 8 with value: 0.7424242424242424.\n",
            "[I 2025-04-24 07:06:24,360] Trial 9 pruned. \n",
            "[I 2025-04-24 07:06:26,794] Trial 10 pruned. \n",
            "[I 2025-04-24 07:06:29,227] Trial 11 pruned. \n",
            "[I 2025-04-24 07:06:31,615] Trial 12 pruned. \n",
            "[I 2025-04-24 07:07:11,359] Trial 13 pruned. \n",
            "[I 2025-04-24 07:07:39,153] Trial 14 finished with value: 0.5 and parameters: {'lr_head': 0.00024861986524304464, 'lr_enc': 8.242911380564463e-06, 'weight_decay': 0.0003400838529499795, 'epochs': 28, 'pos_weight': 2.6336987989658693}. Best is trial 8 with value: 0.7424242424242424.\n",
            "[I 2025-04-24 07:08:22,573] Trial 15 pruned. \n",
            "[I 2025-04-24 07:08:25,026] Trial 16 pruned. \n",
            "[I 2025-04-24 07:08:57,472] Trial 17 finished with value: 0.5757575757575757 and parameters: {'lr_head': 5.861379013594495e-05, 'lr_enc': 2.8492992493156136e-05, 'weight_decay': 0.0001988560593911436, 'epochs': 30, 'pos_weight': 1.009407507198325}. Best is trial 8 with value: 0.7424242424242424.\n",
            "[I 2025-04-24 07:09:46,393] Trial 18 pruned. \n",
            "[I 2025-04-24 07:09:48,842] Trial 19 pruned. \n",
            "[I 2025-04-24 07:10:20,427] Trial 20 finished with value: 0.553030303030303 and parameters: {'lr_head': 4.907420855465027e-05, 'lr_enc': 1.7412128386275486e-05, 'weight_decay': 0.0006705451426048864, 'epochs': 29, 'pos_weight': 1.2528307917990018}. Best is trial 8 with value: 0.7424242424242424.\n",
            "[I 2025-04-24 07:10:23,301] Trial 21 pruned. \n",
            "[I 2025-04-24 07:10:26,989] Trial 22 pruned. \n",
            "[I 2025-04-24 07:10:29,429] Trial 23 pruned. \n",
            "[I 2025-04-24 07:10:32,000] Trial 24 pruned. \n",
            "[I 2025-04-24 07:10:34,541] Trial 25 pruned. \n",
            "[I 2025-04-24 07:11:23,047] Trial 26 pruned. \n",
            "[I 2025-04-24 07:11:25,782] Trial 27 pruned. \n",
            "[I 2025-04-24 07:11:49,136] Trial 28 finished with value: 0.5454545454545454 and parameters: {'lr_head': 0.0004246120582186639, 'lr_enc': 5.932780282744928e-06, 'weight_decay': 0.0009962253844052454, 'epochs': 24, 'pos_weight': 2.5081033721882573}. Best is trial 8 with value: 0.7424242424242424.\n",
            "[I 2025-04-24 07:11:52,851] Trial 29 pruned. \n"
          ]
        },
        {
          "output_type": "stream",
          "name": "stdout",
          "text": [
            "Fold 2:  best val-AUC = 0.742\n"
          ]
        },
        {
          "output_type": "stream",
          "name": "stderr",
          "text": [
            "[I 2025-04-24 07:12:46,078] A new study created in memory with name: no-name-6aa674d9-1bfc-46d4-817f-385533998409\n"
          ]
        },
        {
          "output_type": "stream",
          "name": "stdout",
          "text": [
            "   test-AUC = 0.509\n"
          ]
        },
        {
          "output_type": "stream",
          "name": "stderr",
          "text": [
            "[I 2025-04-24 07:13:29,253] Trial 0 finished with value: 0.4772727272727273 and parameters: {'lr_head': 8.468008575248323e-05, 'lr_enc': 7.969454818643937e-05, 'weight_decay': 0.0007319939418114051, 'epochs': 40, 'pos_weight': 1.312037280884873}. Best is trial 0 with value: 0.4772727272727273.\n",
            "[I 2025-04-24 07:14:12,632] Trial 1 finished with value: 0.3560606060606061 and parameters: {'lr_head': 2.4345423962016926e-05, 'lr_enc': 1.306673923805328e-06, 'weight_decay': 0.0008661761457749352, 'epochs': 40, 'pos_weight': 2.416145155592091}. Best is trial 0 with value: 0.4772727272727273.\n",
            "[I 2025-04-24 07:14:35,235] Trial 2 finished with value: 0.5757575757575757 and parameters: {'lr_head': 1.1245798259119336e-05, 'lr_enc': 8.706020878304853e-05, 'weight_decay': 0.0008324426408004218, 'epochs': 20, 'pos_weight': 1.3636499344142012}. Best is trial 2 with value: 0.5757575757575757.\n",
            "[I 2025-04-24 07:15:09,967] Trial 3 finished with value: 0.46212121212121215 and parameters: {'lr_head': 2.8465263577610925e-05, 'lr_enc': 4.0596116104843085e-06, 'weight_decay': 0.0005247564316322379, 'epochs': 32, 'pos_weight': 1.5824582803960838}. Best is trial 2 with value: 0.5757575757575757.\n",
            "[I 2025-04-24 07:15:41,080] Trial 4 finished with value: 0.6212121212121212 and parameters: {'lr_head': 0.0003278187653397617, 'lr_enc': 1.9010245319870378e-06, 'weight_decay': 0.00029214464853521814, 'epochs': 28, 'pos_weight': 1.9121399684340719}. Best is trial 4 with value: 0.6212121212121212.\n",
            "[I 2025-04-24 07:16:23,232] Trial 5 finished with value: 0.5606060606060606 and parameters: {'lr_head': 0.0008810003129071785, 'lr_enc': 2.5081156860452325e-06, 'weight_decay': 0.0005142344384136116, 'epochs': 40, 'pos_weight': 1.0929008254399954}. Best is trial 4 with value: 0.6212121212121212.\n",
            "[I 2025-04-24 07:17:23,927] Trial 6 finished with value: 0.553030303030303 and parameters: {'lr_head': 0.000319861718220356, 'lr_enc': 2.1930485556643695e-06, 'weight_decay': 6.505159298527952e-05, 'epochs': 58, 'pos_weight': 2.9312640661491187}. Best is trial 4 with value: 0.6212121212121212.\n",
            "[I 2025-04-24 07:18:10,342] Trial 7 finished with value: 0.6818181818181818 and parameters: {'lr_head': 0.0010057690178153981, 'lr_enc': 4.066563313514799e-06, 'weight_decay': 9.767211400638388e-05, 'epochs': 44, 'pos_weight': 1.8803049874792026}. Best is trial 7 with value: 0.6818181818181818.\n",
            "[I 2025-04-24 07:18:12,756] Trial 8 pruned. \n",
            "[I 2025-04-24 07:18:49,233] Trial 9 finished with value: 0.7121212121212122 and parameters: {'lr_head': 0.00043767126303409504, 'lr_enc': 4.201672054372532e-06, 'weight_decay': 0.0005200680211778109, 'epochs': 37, 'pos_weight': 1.369708911051054}. Best is trial 9 with value: 0.7121212121212122.\n",
            "[I 2025-04-24 07:19:01,132] Trial 10 finished with value: 0.5681818181818181 and parameters: {'lr_head': 0.0024257651012128314, 'lr_enc': 2.371927293072107e-05, 'weight_decay': 0.00032312664450230273, 'epochs': 10, 'pos_weight': 2.3037331015563565}. Best is trial 9 with value: 0.7121212121212122.\n",
            "[I 2025-04-24 07:19:52,532] Trial 11 finished with value: 0.6363636363636364 and parameters: {'lr_head': 0.001188127489212458, 'lr_enc': 6.683343962512116e-06, 'weight_decay': 0.00031453123236503303, 'epochs': 49, 'pos_weight': 1.8604962224584127}. Best is trial 9 with value: 0.7121212121212122.\n",
            "[I 2025-04-24 07:20:43,498] Trial 12 finished with value: 0.5909090909090909 and parameters: {'lr_head': 0.0006018874855681127, 'lr_enc': 1.990588814982999e-05, 'weight_decay': 0.0006466190986878412, 'epochs': 47, 'pos_weight': 2.187584595281988}. Best is trial 9 with value: 0.7121212121212122.\n",
            "[I 2025-04-24 07:20:45,919] Trial 13 pruned. \n",
            "[I 2025-04-24 07:20:48,357] Trial 14 pruned. \n",
            "[I 2025-04-24 07:20:50,795] Trial 15 pruned. \n",
            "[I 2025-04-24 07:20:53,938] Trial 16 pruned. \n",
            "[I 2025-04-24 07:20:57,326] Trial 17 pruned. \n",
            "[I 2025-04-24 07:21:46,653] Trial 18 finished with value: 0.5909090909090909 and parameters: {'lr_head': 0.0013061971103997588, 'lr_enc': 6.5441245462944715e-06, 'weight_decay': 0.00041520661636329997, 'epochs': 52, 'pos_weight': 1.2733289354695687}. Best is trial 9 with value: 0.7121212121212122.\n",
            "[I 2025-04-24 07:21:49,112] Trial 19 pruned. \n",
            "[I 2025-04-24 07:21:52,654] Trial 20 pruned. \n",
            "[I 2025-04-24 07:21:55,395] Trial 21 pruned. \n",
            "[I 2025-04-24 07:21:57,901] Trial 22 pruned. \n",
            "[I 2025-04-24 07:22:55,517] Trial 23 finished with value: 0.6136363636363636 and parameters: {'lr_head': 0.0007934879188319884, 'lr_enc': 3.0706000710829133e-06, 'weight_decay': 0.0002333808519546757, 'epochs': 60, 'pos_weight': 1.4787212246759365}. Best is trial 9 with value: 0.7121212121212122.\n",
            "[I 2025-04-24 07:23:36,403] Trial 24 finished with value: 0.6666666666666666 and parameters: {'lr_head': 0.0019098829478147246, 'lr_enc': 6.15945136192086e-06, 'weight_decay': 6.145416689030551e-05, 'epochs': 38, 'pos_weight': 2.101138891600639}. Best is trial 9 with value: 0.7121212121212122.\n",
            "[I 2025-04-24 07:23:38,879] Trial 25 pruned. \n",
            "[I 2025-04-24 07:23:41,288] Trial 26 pruned. \n",
            "[I 2025-04-24 07:23:43,651] Trial 27 pruned. \n",
            "[I 2025-04-24 07:23:47,150] Trial 28 pruned. \n",
            "[I 2025-04-24 07:23:49,985] Trial 29 pruned. \n"
          ]
        },
        {
          "output_type": "stream",
          "name": "stdout",
          "text": [
            "Fold 3:  best val-AUC = 0.712\n"
          ]
        },
        {
          "output_type": "stream",
          "name": "stderr",
          "text": [
            "[I 2025-04-24 07:24:26,038] A new study created in memory with name: no-name-c113f911-cc04-4f22-99e0-26dd4b1745eb\n"
          ]
        },
        {
          "output_type": "stream",
          "name": "stdout",
          "text": [
            "   test-AUC = 0.427\n"
          ]
        },
        {
          "output_type": "stream",
          "name": "stderr",
          "text": [
            "[I 2025-04-24 07:25:26,130] Trial 0 finished with value: 0.5757575757575758 and parameters: {'lr_head': 8.468008575248323e-05, 'lr_enc': 7.969454818643937e-05, 'weight_decay': 0.0007319939418114051, 'epochs': 40, 'pos_weight': 1.312037280884873}. Best is trial 0 with value: 0.5757575757575758.\n",
            "[I 2025-04-24 07:26:09,247] Trial 1 finished with value: 0.5681818181818181 and parameters: {'lr_head': 2.4345423962016926e-05, 'lr_enc': 1.306673923805328e-06, 'weight_decay': 0.0008661761457749352, 'epochs': 40, 'pos_weight': 2.416145155592091}. Best is trial 0 with value: 0.5757575757575758.\n",
            "[I 2025-04-24 07:26:30,928] Trial 2 finished with value: 0.34090909090909094 and parameters: {'lr_head': 1.1245798259119336e-05, 'lr_enc': 8.706020878304853e-05, 'weight_decay': 0.0008324426408004218, 'epochs': 20, 'pos_weight': 1.3636499344142012}. Best is trial 0 with value: 0.5757575757575758.\n",
            "[I 2025-04-24 07:27:04,992] Trial 3 finished with value: 0.6060606060606061 and parameters: {'lr_head': 2.8465263577610925e-05, 'lr_enc': 4.0596116104843085e-06, 'weight_decay': 0.0005247564316322379, 'epochs': 32, 'pos_weight': 1.5824582803960838}. Best is trial 3 with value: 0.6060606060606061.\n",
            "[I 2025-04-24 07:27:36,291] Trial 4 finished with value: 0.6212121212121212 and parameters: {'lr_head': 0.0003278187653397617, 'lr_enc': 1.9010245319870378e-06, 'weight_decay': 0.00029214464853521814, 'epochs': 28, 'pos_weight': 1.9121399684340719}. Best is trial 4 with value: 0.6212121212121212.\n",
            "[I 2025-04-24 07:27:38,772] Trial 5 pruned. \n",
            "[I 2025-04-24 07:28:34,458] Trial 6 finished with value: 0.7121212121212122 and parameters: {'lr_head': 0.000319861718220356, 'lr_enc': 2.1930485556643695e-06, 'weight_decay': 6.505159298527952e-05, 'epochs': 58, 'pos_weight': 2.9312640661491187}. Best is trial 6 with value: 0.7121212121212122.\n",
            "[I 2025-04-24 07:28:36,907] Trial 7 pruned. \n",
            "[I 2025-04-24 07:28:39,291] Trial 8 pruned. \n",
            "[I 2025-04-24 07:29:25,270] Trial 9 finished with value: 0.6666666666666666 and parameters: {'lr_head': 0.00043767126303409504, 'lr_enc': 4.201672054372532e-06, 'weight_decay': 0.0005200680211778109, 'epochs': 37, 'pos_weight': 1.369708911051054}. Best is trial 6 with value: 0.7121212121212122.\n",
            "[I 2025-04-24 07:29:28,060] Trial 10 pruned. \n",
            "[I 2025-04-24 07:29:32,050] Trial 11 pruned. \n",
            "[I 2025-04-24 07:30:24,781] Trial 12 finished with value: 0.8333333333333334 and parameters: {'lr_head': 0.0004275273235523736, 'lr_enc': 1.0401596092153189e-06, 'weight_decay': 0.0006632229967641222, 'epochs': 50, 'pos_weight': 2.9880116181894656}. Best is trial 12 with value: 0.8333333333333334.\n",
            "[I 2025-04-24 07:30:28,342] Trial 13 pruned. \n",
            "[I 2025-04-24 07:31:20,918] Trial 14 finished with value: 0.7575757575757576 and parameters: {'lr_head': 0.000495581393379293, 'lr_enc': 1.0320353990510911e-06, 'weight_decay': 0.0009879567637905689, 'epochs': 50, 'pos_weight': 2.543848024760142}. Best is trial 12 with value: 0.8333333333333334.\n",
            "[I 2025-04-24 07:32:18,054] Trial 15 finished with value: 0.7651515151515151 and parameters: {'lr_head': 0.00269200413916426, 'lr_enc': 1.0145133451164833e-06, 'weight_decay': 0.0009960165317474353, 'epochs': 53, 'pos_weight': 2.5596617874730674}. Best is trial 12 with value: 0.8333333333333334.\n",
            "[I 2025-04-24 07:33:10,715] Trial 16 finished with value: 0.7575757575757576 and parameters: {'lr_head': 0.0029891102783900086, 'lr_enc': 2.8724384468463452e-05, 'weight_decay': 0.0009421506045199545, 'epochs': 49, 'pos_weight': 2.6706260766043863}. Best is trial 12 with value: 0.8333333333333334.\n",
            "[I 2025-04-24 07:33:13,251] Trial 17 pruned. \n",
            "[I 2025-04-24 07:33:49,667] Trial 18 pruned. \n",
            "[I 2025-04-24 07:33:52,610] Trial 19 pruned. \n",
            "[I 2025-04-24 07:34:29,360] Trial 20 pruned. \n",
            "[I 2025-04-24 07:34:33,189] Trial 21 pruned. \n",
            "[I 2025-04-24 07:34:35,780] Trial 22 pruned. \n",
            "[I 2025-04-24 07:34:38,229] Trial 23 pruned. \n",
            "[I 2025-04-24 07:35:14,776] Trial 24 pruned. \n",
            "[I 2025-04-24 07:35:30,367] Trial 25 pruned. \n",
            "[I 2025-04-24 07:35:33,119] Trial 26 pruned. \n",
            "[I 2025-04-24 07:35:35,643] Trial 27 pruned. \n",
            "[I 2025-04-24 07:36:05,078] Trial 28 pruned. \n",
            "[I 2025-04-24 07:36:07,594] Trial 29 pruned. \n"
          ]
        },
        {
          "output_type": "stream",
          "name": "stdout",
          "text": [
            "Fold 4:  best val-AUC = 0.833\n"
          ]
        },
        {
          "output_type": "stream",
          "name": "stderr",
          "text": [
            "[I 2025-04-24 07:36:58,144] A new study created in memory with name: no-name-f0a714ee-0d15-455d-8325-43a8b75ae290\n"
          ]
        },
        {
          "output_type": "stream",
          "name": "stdout",
          "text": [
            "   test-AUC = 0.538\n"
          ]
        },
        {
          "output_type": "stream",
          "name": "stderr",
          "text": [
            "[I 2025-04-24 07:38:08,697] Trial 0 finished with value: 0.40909090909090906 and parameters: {'lr_head': 8.468008575248323e-05, 'lr_enc': 7.969454818643937e-05, 'weight_decay': 0.0007319939418114051, 'epochs': 40, 'pos_weight': 1.312037280884873}. Best is trial 0 with value: 0.40909090909090906.\n",
            "[I 2025-04-24 07:38:51,522] Trial 1 finished with value: 0.3257575757575758 and parameters: {'lr_head': 2.4345423962016926e-05, 'lr_enc': 1.306673923805328e-06, 'weight_decay': 0.0008661761457749352, 'epochs': 40, 'pos_weight': 2.416145155592091}. Best is trial 0 with value: 0.40909090909090906.\n",
            "[I 2025-04-24 07:39:19,532] Trial 2 finished with value: 0.5151515151515151 and parameters: {'lr_head': 1.1245798259119336e-05, 'lr_enc': 8.706020878304853e-05, 'weight_decay': 0.0008324426408004218, 'epochs': 20, 'pos_weight': 1.3636499344142012}. Best is trial 2 with value: 0.5151515151515151.\n",
            "[I 2025-04-24 07:39:56,002] Trial 3 finished with value: 0.6666666666666666 and parameters: {'lr_head': 2.8465263577610925e-05, 'lr_enc': 4.0596116104843085e-06, 'weight_decay': 0.0005247564316322379, 'epochs': 32, 'pos_weight': 1.5824582803960838}. Best is trial 3 with value: 0.6666666666666666.\n",
            "[I 2025-04-24 07:40:26,400] Trial 4 finished with value: 0.49242424242424243 and parameters: {'lr_head': 0.0003278187653397617, 'lr_enc': 1.9010245319870378e-06, 'weight_decay': 0.00029214464853521814, 'epochs': 28, 'pos_weight': 1.9121399684340719}. Best is trial 3 with value: 0.6666666666666666.\n",
            "[I 2025-04-24 07:40:28,832] Trial 5 pruned. \n",
            "[I 2025-04-24 07:40:31,335] Trial 6 pruned. \n",
            "[I 2025-04-24 07:41:13,808] Trial 7 finished with value: 0.5757575757575757 and parameters: {'lr_head': 0.0010057690178153981, 'lr_enc': 4.066563313514799e-06, 'weight_decay': 9.767211400638388e-05, 'epochs': 44, 'pos_weight': 1.8803049874792026}. Best is trial 3 with value: 0.6666666666666666.\n",
            "[I 2025-04-24 07:42:15,313] Trial 8 finished with value: 0.696969696969697 and parameters: {'lr_head': 2.0058733363444943e-05, 'lr_enc': 9.780337016659406e-06, 'weight_decay': 3.43885211152184e-05, 'epochs': 56, 'pos_weight': 1.5175599632000338}. Best is trial 8 with value: 0.696969696969697.\n",
            "[I 2025-04-24 07:42:54,712] Trial 9 finished with value: 0.75 and parameters: {'lr_head': 0.00043767126303409504, 'lr_enc': 4.201672054372532e-06, 'weight_decay': 0.0005200680211778109, 'epochs': 37, 'pos_weight': 1.369708911051054}. Best is trial 9 with value: 0.75.\n",
            "[I 2025-04-24 07:42:58,387] Trial 10 pruned. \n",
            "[I 2025-04-24 07:43:00,840] Trial 11 pruned. \n",
            "[I 2025-04-24 07:43:03,273] Trial 12 pruned. \n",
            "[I 2025-04-24 07:43:05,706] Trial 13 pruned. \n",
            "[I 2025-04-24 07:43:08,239] Trial 14 pruned. \n",
            "[I 2025-04-24 07:44:03,982] Trial 15 finished with value: 0.9015151515151516 and parameters: {'lr_head': 1.211145470803988e-05, 'lr_enc': 1.6859040665734183e-05, 'weight_decay': 0.0004641159290256863, 'epochs': 52, 'pos_weight': 1.3360268400475845}. Best is trial 15 with value: 0.9015151515151516.\n",
            "[I 2025-04-24 07:44:36,502] Trial 16 pruned. \n",
            "[I 2025-04-24 07:45:13,365] Trial 17 finished with value: 0.7121212121212122 and parameters: {'lr_head': 4.7138224946499235e-05, 'lr_enc': 7.251860178578998e-06, 'weight_decay': 0.0006203562255836249, 'epochs': 34, 'pos_weight': 1.8284871814869432}. Best is trial 15 with value: 0.9015151515151516.\n",
            "[I 2025-04-24 07:45:34,316] Trial 18 finished with value: 0.6060606060606061 and parameters: {'lr_head': 0.0004751452705770319, 'lr_enc': 2.006577148598672e-05, 'weight_decay': 0.00041520661636329997, 'epochs': 18, 'pos_weight': 2.6409445063733843}. Best is trial 15 with value: 0.9015151515151516.\n",
            "[I 2025-04-24 07:45:37,061] Trial 19 pruned. \n",
            "[I 2025-04-24 07:46:33,156] Trial 20 finished with value: 0.856060606060606 and parameters: {'lr_head': 0.000547357587147852, 'lr_enc': 1.4912466261781887e-05, 'weight_decay': 0.0006142880072104488, 'epochs': 52, 'pos_weight': 1.0094802393061781}. Best is trial 15 with value: 0.9015151515151516.\n",
            "[I 2025-04-24 07:46:35,675] Trial 21 pruned. \n",
            "[I 2025-04-24 07:47:23,795] Trial 22 pruned. \n",
            "[I 2025-04-24 07:47:26,529] Trial 23 pruned. \n",
            "[I 2025-04-24 07:47:30,380] Trial 24 pruned. \n",
            "[I 2025-04-24 07:47:32,796] Trial 25 pruned. \n",
            "[I 2025-04-24 07:47:35,273] Trial 26 pruned. \n",
            "[I 2025-04-24 07:48:09,104] Trial 27 finished with value: 0.6893939393939394 and parameters: {'lr_head': 0.0004397308293481132, 'lr_enc': 1.0915783789073836e-06, 'weight_decay': 0.0007028806807735403, 'epochs': 31, 'pos_weight': 1.7562445159747335}. Best is trial 15 with value: 0.9015151515151516.\n",
            "[I 2025-04-24 07:48:48,785] Trial 28 finished with value: 0.7651515151515151 and parameters: {'lr_head': 0.00012594724787324667, 'lr_enc': 3.5615267688516e-05, 'weight_decay': 0.0008158814961493871, 'epochs': 36, 'pos_weight': 1.030042423251374}. Best is trial 15 with value: 0.9015151515151516.\n",
            "[I 2025-04-24 07:48:51,222] Trial 29 pruned. \n"
          ]
        },
        {
          "output_type": "stream",
          "name": "stdout",
          "text": [
            "Fold 5:  best val-AUC = 0.902\n",
            "   test-AUC = 0.474\n"
          ]
        }
      ]
    },
    {
      "cell_type": "code",
      "source": [
        "print(\"\\n⟪ Nested-CV summary ⟫\")\n",
        "for i,a in enumerate(outer_results,1):\n",
        "    print(f\"Fold {i}: AUC = {a:.3f}\")\n",
        "print(f\"Mean ± SD  →  {np.mean(outer_results):.3f} ± {np.std(outer_results):.3f}\")\n"
      ],
      "metadata": {
        "colab": {
          "base_uri": "https://localhost:8080/"
        },
        "id": "DfWfG-rCWZvp",
        "outputId": "621479c1-451c-4805-8795-1be8f0296351"
      },
      "execution_count": 7,
      "outputs": [
        {
          "output_type": "stream",
          "name": "stdout",
          "text": [
            "\n",
            "⟪ Nested-CV summary ⟫\n",
            "Fold 1: AUC = 0.474\n",
            "Fold 2: AUC = 0.509\n",
            "Fold 3: AUC = 0.427\n",
            "Fold 4: AUC = 0.538\n",
            "Fold 5: AUC = 0.474\n",
            "Mean ± SD  →  0.484 ± 0.037\n"
          ]
        }
      ]
    }
  ]
}