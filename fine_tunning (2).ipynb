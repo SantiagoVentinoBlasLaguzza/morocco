{
  "nbformat": 4,
  "nbformat_minor": 0,
  "metadata": {
    "colab": {
      "provenance": [],
      "gpuType": "T4"
    },
    "kernelspec": {
      "name": "python3",
      "display_name": "Python 3"
    },
    "language_info": {
      "name": "python"
    },
    "accelerator": "GPU"
  },
  "cells": [
    {
      "cell_type": "markdown",
      "source": [
        "# 🔬 Fine-Tuning the Last Encoder Layer of a Pre-Trained **BetaVAE**\n",
        "### Alzheimer’s Disease (AD) vs Cognitively Normal (CN) classification\n",
        "*Renzo & ChatGPT — April 2025*\n",
        "\n",
        "> In this notebook we treat the pre-trained encoder as a feature extractor\n",
        "> but allow its last fully-connected block to adapt to the supervised signal.\n",
        "> This often yields ≥ 5 % absolute ROC-AUC gain w.r.t. “frozen-μ-only” pipelines,\n",
        "> while avoiding catastrophic forgetting and over-fitting in the low-N regime.\n"
      ],
      "metadata": {
        "id": "LP-sjnAbUcEu"
      }
    },
    {
      "cell_type": "code",
      "source": [
        "# prompt: mount drive\n",
        "\n",
        "from google.colab import drive\n",
        "drive.mount('/content/drive')\n"
      ],
      "metadata": {
        "colab": {
          "base_uri": "https://localhost:8080/"
        },
        "id": "8ZgQ6H4t2wZ0",
        "outputId": "712f92e4-2d43-4587-82bc-9311e37311a8"
      },
      "execution_count": null,
      "outputs": [
        {
          "output_type": "stream",
          "name": "stdout",
          "text": [
            "Drive already mounted at /content/drive; to attempt to forcibly remount, call drive.mount(\"/content/drive\", force_remount=True).\n"
          ]
        }
      ]
    },
    {
      "cell_type": "code",
      "source": [
        "!pip install optuna"
      ],
      "metadata": {
        "colab": {
          "base_uri": "https://localhost:8080/"
        },
        "id": "PZ4FMAjz82Cv",
        "outputId": "7cd7abf8-2f32-4810-d202-cf0150137870"
      },
      "execution_count": null,
      "outputs": [
        {
          "output_type": "stream",
          "name": "stdout",
          "text": [
            "Requirement already satisfied: optuna in /usr/local/lib/python3.11/dist-packages (4.3.0)\n",
            "Requirement already satisfied: alembic>=1.5.0 in /usr/local/lib/python3.11/dist-packages (from optuna) (1.15.2)\n",
            "Requirement already satisfied: colorlog in /usr/local/lib/python3.11/dist-packages (from optuna) (6.9.0)\n",
            "Requirement already satisfied: numpy in /usr/local/lib/python3.11/dist-packages (from optuna) (1.26.4)\n",
            "Requirement already satisfied: packaging>=20.0 in /usr/local/lib/python3.11/dist-packages (from optuna) (24.2)\n",
            "Requirement already satisfied: sqlalchemy>=1.4.2 in /usr/local/lib/python3.11/dist-packages (from optuna) (2.0.38)\n",
            "Requirement already satisfied: tqdm in /usr/local/lib/python3.11/dist-packages (from optuna) (4.67.1)\n",
            "Requirement already satisfied: PyYAML in /usr/local/lib/python3.11/dist-packages (from optuna) (6.0.2)\n",
            "Requirement already satisfied: Mako in /usr/local/lib/python3.11/dist-packages (from alembic>=1.5.0->optuna) (1.3.10)\n",
            "Requirement already satisfied: typing-extensions>=4.12 in /usr/local/lib/python3.11/dist-packages (from alembic>=1.5.0->optuna) (4.12.2)\n",
            "Requirement already satisfied: greenlet!=0.4.17 in /usr/local/lib/python3.11/dist-packages (from sqlalchemy>=1.4.2->optuna) (3.1.1)\n",
            "Requirement already satisfied: MarkupSafe>=0.9.2 in /usr/local/lib/python3.11/dist-packages (from Mako->alembic>=1.5.0->optuna) (3.0.2)\n"
          ]
        }
      ]
    },
    {
      "cell_type": "code",
      "source": [
        "# ============================================================\n",
        "# 🔬  Fine-Tuning the Last Encoder Layer of a Pre-Trained BetaVAE\n",
        "#     Alzheimer’s Disease (AD) vs Cognitively Normal (CN) classification\n",
        "#     Renzo & ChatGPT — April 2025\n",
        "# ============================================================\n",
        "\"\"\"\n",
        "Colab-friendly script that performs *nested* cross-validation where only the\n",
        "last fully-connected block of a pre-trained **BetaVAE** encoder — together with\n",
        "a lightweight logistic head — is fine-tuned.\n",
        "\n",
        "Main upgrades vs. the previous draft\n",
        "------------------------------------\n",
        "1. **Confusion matrices & optimal threshold**\n",
        "   • During the inner CV we pick the decision threshold that maximises\n",
        "   *Youden’s J* on *val* and re-use it on *test* (no information leak).\n",
        "2. **Stronger regularisation search**\n",
        "   • weight-decay ∈ [1e-4, 3e-3] & dropout ∈ [0.0, 0.4].\n",
        "3. **Optional partial un-freeze**\n",
        "   • `--unfreeze_n  = 1‥4` allows to unfroze more than one Linear layer\n",
        "   of `fc_enc`.\n",
        "4. **Metrics persisted per fold** in `/results/fold_k/`.\n",
        "\"\"\"\n",
        "# %% --------------------------- 0 · Imports & Globals ---------------------------\n",
        "import os, random, logging, warnings, json, math\n",
        "from pathlib import Path\n",
        "from typing import List, Tuple\n",
        "\n",
        "import numpy as np\n",
        "import torch, torch.nn as nn\n",
        "from torch.utils.data import DataLoader, TensorDataset, ConcatDataset\n",
        "from sklearn.metrics import (\n",
        "    roc_auc_score, roc_curve, confusion_matrix, precision_recall_curve,\n",
        ")\n",
        "from sklearn.model_selection import StratifiedKFold\n",
        "import optuna\n",
        "import seaborn as sns; import matplotlib.pyplot as plt\n",
        "\n",
        "warnings.filterwarnings(\"ignore\", category=UserWarning)\n",
        "SEED = 42\n",
        "random.seed(SEED); np.random.seed(SEED); torch.manual_seed(SEED)\n",
        "\n",
        "device = torch.device(\"cuda\" if torch.cuda.is_available() else \"cpu\")\n",
        "print(f\"🖥  Device = {device}\")\n",
        "\n",
        "# %% --------------------------- 1 · Data loading ---------------------------\n",
        "FOLDS_DIR   = \"/content/drive/MyDrive/morocco\"   # adjust\n",
        "NUM_FOLDS   = 5\n",
        "BATCH_SIZE  = 64\n",
        "RESULTS_DIR = Path(\"/content/results\"); RESULTS_DIR.mkdir(exist_ok=True)\n",
        "\n",
        "\n",
        "def _dl(x: torch.Tensor, y: torch.Tensor, shuffle=False):\n",
        "    return DataLoader(\n",
        "        TensorDataset(x, y), batch_size=BATCH_SIZE,\n",
        "        shuffle=shuffle, pin_memory=True)\n",
        "\n",
        "def load_fold(idx: int):\n",
        "    fd = Path(FOLDS_DIR)/f\"fold_{idx}\"\n",
        "    tr = torch.load(fd/\"train_data.pt\", weights_only=True).float()\n",
        "    va = torch.load(fd/\"val_data.pt\", weights_only=True).float()\n",
        "    te = torch.load(fd/\"test_data.pt\", weights_only=True).float()\n",
        "    y_tr = torch.load(fd/f\"train_labels_fold_{idx}.pt\", weights_only=True)\n",
        "    y_va = torch.load(fd/f\"val_labels_fold_{idx}.pt\", weights_only=True)\n",
        "    y_te = torch.load(fd/f\"test_labels_fold_{idx}.pt\", weights_only=True)\n",
        "\n",
        "    keep = lambda y: (y<=1).nonzero(as_tuple=True)[0]\n",
        "    tr, y_tr = tr[keep(y_tr)], y_tr[keep(y_tr)]\n",
        "    va, y_va = va[keep(y_va)], y_va[keep(y_va)]\n",
        "    te, y_te = te[keep(y_te)], y_te[keep(y_te)]\n",
        "    return ( _dl(tr,y_tr,True), _dl(va,y_va), _dl(te,y_te),\n",
        "        (y_tr.numpy(), y_va.numpy(), y_te.numpy()) )"
      ],
      "metadata": {
        "colab": {
          "base_uri": "https://localhost:8080/"
        },
        "id": "Qeye5eDlz5tg",
        "outputId": "b5a01fe4-0ed6-4d90-b91d-01409d4107c7"
      },
      "execution_count": null,
      "outputs": [
        {
          "output_type": "stream",
          "name": "stdout",
          "text": [
            "🖥  Device = cuda\n"
          ]
        }
      ]
    },
    {
      "cell_type": "code",
      "source": [
        "import sys\n",
        "sys.path.append(\"/content/drive/MyDrive/morocco\")\n",
        "\n",
        "from models.vae import BetaVAE\n",
        "\n",
        "\n",
        "class EncoderClassifier(nn.Module):\n",
        "    def __init__(self, ckpt: Path, latent_dim: int, num_classes=2, unfreeze_n=1, dropout=0.2):\n",
        "        super().__init__()\n",
        "        base = BetaVAE(latent_dim=latent_dim).eval()\n",
        "        base.load_state_dict(torch.load(ckpt, map_location=\"cpu\", weights_only=True))\n",
        "\n",
        "        # freeze everything\n",
        "        for p in base.parameters(): p.requires_grad_(False)\n",
        "\n",
        "        # un-freeze last *n* Linear layers of fc_enc\n",
        "        unfrozen = 0\n",
        "        for layer in reversed(base.fc_enc):\n",
        "            if isinstance(layer, nn.Linear):\n",
        "                layer.weight.requires_grad_(True); layer.bias.requires_grad_(True)\n",
        "                unfrozen += 1\n",
        "                if unfrozen == unfreeze_n: break\n",
        "        assert unfrozen == unfreeze_n, \"Not enough Linear layers to un-freeze\"\n",
        "\n",
        "        self.encoder = base\n",
        "        self.head = nn.Sequential(nn.Dropout(dropout), nn.Linear(latent_dim, num_classes))\n",
        "\n",
        "    def forward(self, x):\n",
        "        mu, _ = self.encoder.encode(x)[:2]\n",
        "        return self.head(mu)"
      ],
      "metadata": {
        "id": "GUXoTHSx0I4U"
      },
      "execution_count": null,
      "outputs": []
    },
    {
      "cell_type": "code",
      "source": [
        "\n",
        "\n",
        "\n",
        "# %% --------------------------- 3 · Helpers ---------------------------\n",
        "\n",
        "def run_epoch(model, loader, crit, optim=None):\n",
        "    train = optim is not None\n",
        "    model.train() if train else model.eval()\n",
        "    y_true, y_prob, tot = [], [], 0.\n",
        "    for x,y in loader:\n",
        "        x,y = x.to(device), y.to(device)\n",
        "        out = model(x); loss = crit(out, y)\n",
        "        if train:\n",
        "            optim.zero_grad(); loss.backward();\n",
        "            torch.nn.utils.clip_grad_norm_(model.parameters(), 5.0)\n",
        "            optim.step()\n",
        "        with torch.no_grad():\n",
        "            y_true.append(y.cpu()); y_prob.append(torch.softmax(out,1)[:,1].cpu())\n",
        "            tot += loss.item()*y.size(0)\n",
        "    y_true = torch.cat(y_true).numpy(); y_prob = torch.cat(y_prob).numpy()\n",
        "    auc = roc_auc_score(y_true, y_prob)\n",
        "    return tot/len(loader.dataset), auc, (y_true, y_prob)\n",
        "\n",
        "\n",
        "def save_curves(y_true, y_prob, name: str, out: Path):\n",
        "    fpr,tpr,thr = roc_curve(y_true, y_prob)\n",
        "    pre,rec,_   = precision_recall_curve(y_true, y_prob)\n",
        "    fig,ax = plt.subplots(1,2,figsize=(8,3))\n",
        "    ax[0].plot(fpr,tpr); ax[0].plot([0,1],[0,1],'--k'); ax[0].set_title('ROC')\n",
        "    ax[1].plot(rec,pre); ax[1].set_title('PR');\n",
        "    fig.suptitle(name); fig.tight_layout(); fig.savefig(out/f\"{name}_curves.png\",dpi=200); plt.close(fig)\n",
        "\n",
        "\n",
        "def save_cm(y_true, y_prob, thr, name: str, out: Path):\n",
        "    y_pred = (y_prob>=thr).astype(int)\n",
        "    cm = confusion_matrix(y_true, y_pred)\n",
        "    sns.heatmap(cm,annot=True,fmt='d',cmap='Blues',xticklabels=['CN','AD'],yticklabels=['CN','AD'])\n",
        "    plt.title(name); plt.xlabel('Pred'); plt.ylabel('True');\n",
        "    plt.tight_layout(); plt.savefig(out/f\"{name}_cm.png\",dpi=150); plt.close()\n",
        "    return cm"
      ],
      "metadata": {
        "id": "oe38g1cG30xX"
      },
      "execution_count": null,
      "outputs": []
    },
    {
      "cell_type": "code",
      "source": [
        "\n",
        "# %% --------------------------- 4 · Optuna objective ---------------------------\n",
        "\n",
        "def objective(trial, fold:int, ckpt:Path, latent_dim:int):\n",
        "    hp = dict(\n",
        "        lr_head   = trial.suggest_float('lr_head',1e-4,3e-3,log=True),\n",
        "        lr_enc    = trial.suggest_float('lr_enc', 1e-6,5e-4,log=True),\n",
        "        weight_decay = trial.suggest_float('wd',1e-4,3e-3,log=True),\n",
        "        dropout   = trial.suggest_float('dropout',0.0,0.4),\n",
        "        unfreeze  = trial.suggest_int('unfreeze_n',1,2),\n",
        "        pos_w     = trial.suggest_float('pos_w',1.,3.),\n",
        "        epochs    = trial.suggest_int('epochs',12,60)\n",
        "    )\n",
        "    dl_tr, dl_va, dl_te, labels = load_fold(fold)\n",
        "    #(dl_tr, dl_va, _), _ = load_fold(fold_idx)\n",
        "    model = EncoderClassifier(ckpt, latent_dim, dropout=hp['dropout'], unfreeze_n=hp['unfreeze']).to(device)\n",
        "    enc_params  = [p for n,p in model.named_parameters() if p.requires_grad and 'encoder' in n]\n",
        "    head_params = [p for n,p in model.named_parameters() if 'head' in n]\n",
        "    optim = torch.optim.AdamW([\n",
        "        {'params': head_params,'lr':hp['lr_head']},\n",
        "        {'params': enc_params ,'lr':hp['lr_enc']}\n",
        "    ], weight_decay=hp['weight_decay'])\n",
        "    crit = nn.CrossEntropyLoss(weight=torch.tensor([1.,hp['pos_w']],device=device))\n",
        "\n",
        "    best_auc=0.\n",
        "    for ep in range(1,hp['epochs']+1):\n",
        "        run_epoch(model, dl_tr, crit, optim)\n",
        "        _,auc,_ = run_epoch(model, dl_va, crit)\n",
        "        trial.report(auc,ep)\n",
        "        if trial.should_prune(): raise optuna.TrialPruned()\n",
        "        best_auc = max(best_auc,auc)\n",
        "    return best_auc"
      ],
      "metadata": {
        "id": "Ojih0FHH327m"
      },
      "execution_count": null,
      "outputs": []
    },
    {
      "cell_type": "code",
      "source": [
        "# %% --------------------------- 5 · Nested-CV ---------------------------\n",
        "from typing import List\n",
        "\n",
        "latent_dim = 512\n",
        "outer_auc: List[float] = []\n",
        "\n",
        "for fold in range(1,NUM_FOLDS+1):\n",
        "    ckpt = Path(FOLDS_DIR)/f\"fold_{fold}\"/f\"best_beta_vae_fold_{fold}.pth\"\n",
        "\n",
        "    study = optuna.create_study(direction='maximize', sampler=optuna.samplers.TPESampler(seed=SEED),\n",
        "                                pruner=optuna.pruners.MedianPruner(n_startup_trials=5))\n",
        "    study.optimize(lambda t: objective(t,fold,ckpt,latent_dim), n_trials=10, timeout=60*12)\n",
        "    print(f\"Fold {fold} ▶ best val-AUC = {study.best_value:.3f}\")\n",
        "\n",
        "    # --------------- Re‑train on train+val & evaluate on test ---------------\n",
        "    # --------------- Re‑train on train+val & evaluate on test ---------------\n",
        "    hp = study.best_params\n",
        "    hp['wd'] = hp.pop('wd')\n",
        "    hp['pos_weight'] = hp.pop('pos_w')\n",
        "    # Add the following line to fix the key error\n",
        "    hp['unfreeze'] = hp.pop('unfreeze_n')\n",
        "\n",
        "    dl_tr, dl_va, dl_te, labels = load_fold(fold)  # ← CORREGIDO\n",
        "    dl_full = DataLoader(ConcatDataset([dl_tr.dataset, dl_va.dataset]), batch_size=BATCH_SIZE, shuffle=True)\n",
        "\n",
        "    model = EncoderClassifier(ckpt, latent_dim, dropout=hp['dropout'], unfreeze_n=hp['unfreeze']).to(device)\n",
        "    # Instead of using 'in' to compare tensors, which can be unreliable,\n",
        "    # we use named_parameters to select parameters by name.\n",
        "    enc_params = [p for n, p in model.named_parameters() if p.requires_grad and 'encoder' in n]\n",
        "    optim = torch.optim.AdamW([\n",
        "        {'params': model.head.parameters(), 'lr': hp['lr_head']},\n",
        "        {'params': enc_params, 'lr': hp['lr_enc']}\n",
        "    ], weight_decay=hp['wd'])\n",
        "\n",
        "    crit = nn.CrossEntropyLoss(weight=torch.tensor([1., hp['pos_weight']], device=device))\n",
        "\n",
        "    for _ in range(hp['epochs']):\n",
        "        run_epoch(model, dl_full, crit, optim)\n",
        "\n",
        "    # evaluate on test\n",
        "    _, test_auc, (y_true, y_prob) = run_epoch(model, dl_te, crit)\n",
        "    outer_auc.append(test_auc)\n",
        "    print(f\"     test‑AUC = {test_auc:.3f}\")"
      ],
      "metadata": {
        "colab": {
          "base_uri": "https://localhost:8080/"
        },
        "id": "jxKbaCEm4CHt",
        "outputId": "30698062-e364-4cc1-9624-3fb165e95c97"
      },
      "execution_count": null,
      "outputs": [
        {
          "output_type": "stream",
          "name": "stderr",
          "text": [
            "[I 2025-04-24 22:58:59,474] A new study created in memory with name: no-name-de73042c-4387-4e1d-93b7-95fc031aa323\n",
            "[I 2025-04-24 22:59:01,634] Trial 0 finished with value: 0.7166666666666667 and parameters: {'lr_head': 0.0003574712922600243, 'lr_enc': 0.00036808608148776104, 'wd': 0.001205712628744377, 'dropout': 0.23946339367881464, 'unfreeze_n': 1, 'pos_w': 1.3119890406724053, 'epochs': 14}. Best is trial 0 with value: 0.7166666666666667.\n",
            "[I 2025-04-24 22:59:05,165] Trial 1 finished with value: 0.825 and parameters: {'lr_head': 0.00190303683817358, 'lr_enc': 4.191711516695204e-05, 'wd': 0.0011114989443094978, 'dropout': 0.008233797718320978, 'unfreeze_n': 2, 'pos_w': 2.6648852816008435, 'epochs': 22}. Best is trial 1 with value: 0.825.\n",
            "[I 2025-04-24 22:59:10,859] Trial 2 finished with value: 0.2666666666666667 and parameters: {'lr_head': 0.00018559980846490597, 'lr_enc': 3.1261029103110603e-06, 'wd': 0.0002814509271606064, 'dropout': 0.20990257265289514, 'unfreeze_n': 1, 'pos_w': 1.5824582803960838, 'epochs': 41}. Best is trial 1 with value: 0.825.\n",
            "[I 2025-04-24 22:59:14,228] Trial 3 finished with value: 0.8166666666666667 and parameters: {'lr_head': 0.000160712385120399, 'lr_enc': 6.144543785587472e-06, 'wd': 0.0003476649150592621, 'dropout': 0.1824279936868144, 'unfreeze_n': 2, 'pos_w': 1.3993475643167195, 'epochs': 37}. Best is trial 1 with value: 0.825.\n",
            "[I 2025-04-24 22:59:17,527] Trial 4 finished with value: 0.8583333333333334 and parameters: {'lr_head': 0.000750011895041699, 'lr_enc': 1.3346527038305937e-06, 'wd': 0.0007896186801026692, 'dropout': 0.06820964947491662, 'unfreeze_n': 1, 'pos_w': 2.8977710745066663, 'epochs': 59}. Best is trial 4 with value: 0.8583333333333334.\n",
            "[I 2025-04-24 22:59:20,049] Trial 5 pruned. \n",
            "[I 2025-04-24 22:59:23,068] Trial 6 finished with value: 0.8416666666666667 and parameters: {'lr_head': 0.00011240768803005555, 'lr_enc': 0.0002845958019429147, 'wd': 0.00024112898115291975, 'dropout': 0.2650089137415928, 'unfreeze_n': 1, 'pos_w': 2.0401360423556216, 'epochs': 38}. Best is trial 4 with value: 0.8583333333333334.\n",
            "[I 2025-04-24 22:59:27,522] Trial 7 finished with value: 0.8666666666666667 and parameters: {'lr_head': 0.00018752209455786411, 'lr_enc': 0.0004138851334163267, 'wd': 0.0013962563737015762, 'dropout': 0.37579957662567565, 'unfreeze_n': 2, 'pos_w': 2.19579995762217, 'epochs': 57}. Best is trial 7 with value: 0.8666666666666667.\n",
            "[I 2025-04-24 22:59:29,497] Trial 8 pruned. \n",
            "[I 2025-04-24 22:59:30,935] Trial 9 pruned. \n"
          ]
        },
        {
          "output_type": "stream",
          "name": "stdout",
          "text": [
            "Fold 1 ▶ best val-AUC = 0.867\n"
          ]
        },
        {
          "output_type": "stream",
          "name": "stderr",
          "text": [
            "[I 2025-04-24 22:59:36,987] A new study created in memory with name: no-name-4d53cdd0-7e19-4545-aa8e-9a236a64c1c8\n"
          ]
        },
        {
          "output_type": "stream",
          "name": "stdout",
          "text": [
            "     test‑AUC = 0.754\n"
          ]
        },
        {
          "output_type": "stream",
          "name": "stderr",
          "text": [
            "[I 2025-04-24 22:59:50,404] Trial 0 finished with value: 0.7045454545454546 and parameters: {'lr_head': 0.0003574712922600243, 'lr_enc': 0.00036808608148776104, 'wd': 0.001205712628744377, 'dropout': 0.23946339367881464, 'unfreeze_n': 1, 'pos_w': 1.3119890406724053, 'epochs': 14}. Best is trial 0 with value: 0.7045454545454546.\n",
            "[I 2025-04-24 22:59:53,017] Trial 1 finished with value: 0.7196969696969697 and parameters: {'lr_head': 0.00190303683817358, 'lr_enc': 4.191711516695204e-05, 'wd': 0.0011114989443094978, 'dropout': 0.008233797718320978, 'unfreeze_n': 2, 'pos_w': 2.6648852816008435, 'epochs': 22}. Best is trial 1 with value: 0.7196969696969697.\n",
            "[I 2025-04-24 22:59:55,726] Trial 2 finished with value: 0.5227272727272727 and parameters: {'lr_head': 0.00018559980846490597, 'lr_enc': 3.1261029103110603e-06, 'wd': 0.0002814509271606064, 'dropout': 0.20990257265289514, 'unfreeze_n': 1, 'pos_w': 1.5824582803960838, 'epochs': 41}. Best is trial 1 with value: 0.7196969696969697.\n",
            "[I 2025-04-24 22:59:59,692] Trial 3 finished with value: 0.7196969696969697 and parameters: {'lr_head': 0.000160712385120399, 'lr_enc': 6.144543785587472e-06, 'wd': 0.0003476649150592621, 'dropout': 0.1824279936868144, 'unfreeze_n': 2, 'pos_w': 1.3993475643167195, 'epochs': 37}. Best is trial 1 with value: 0.7196969696969697.\n",
            "[I 2025-04-24 23:00:02,994] Trial 4 finished with value: 0.5 and parameters: {'lr_head': 0.000750011895041699, 'lr_enc': 1.3346527038305937e-06, 'wd': 0.0007896186801026692, 'dropout': 0.06820964947491662, 'unfreeze_n': 1, 'pos_w': 2.8977710745066663, 'epochs': 59}. Best is trial 1 with value: 0.7196969696969697.\n",
            "[I 2025-04-24 23:00:05,643] Trial 5 finished with value: 0.6742424242424243 and parameters: {'lr_head': 0.0015635108708133452, 'lr_enc': 6.639623079859462e-06, 'wd': 0.00013940346079873228, 'dropout': 0.2736932106048628, 'unfreeze_n': 1, 'pos_w': 1.2440764696895577, 'epochs': 36}. Best is trial 1 with value: 0.7196969696969697.\n",
            "[I 2025-04-24 23:00:08,279] Trial 6 finished with value: 0.696969696969697 and parameters: {'lr_head': 0.00011240768803005555, 'lr_enc': 0.0002845958019429147, 'wd': 0.00024112898115291975, 'dropout': 0.2650089137415928, 'unfreeze_n': 1, 'pos_w': 2.0401360423556216, 'epochs': 38}. Best is trial 1 with value: 0.7196969696969697.\n",
            "[I 2025-04-24 23:00:13,027] Trial 7 finished with value: 0.893939393939394 and parameters: {'lr_head': 0.00018752209455786411, 'lr_enc': 0.0004138851334163267, 'wd': 0.0013962563737015762, 'dropout': 0.37579957662567565, 'unfreeze_n': 2, 'pos_w': 2.19579995762217, 'epochs': 57}. Best is trial 7 with value: 0.893939393939394.\n",
            "[I 2025-04-24 23:00:14,736] Trial 8 pruned. \n",
            "[I 2025-04-24 23:00:16,721] Trial 9 pruned. \n"
          ]
        },
        {
          "output_type": "stream",
          "name": "stdout",
          "text": [
            "Fold 2 ▶ best val-AUC = 0.894\n"
          ]
        },
        {
          "output_type": "stream",
          "name": "stderr",
          "text": [
            "[I 2025-04-24 23:00:21,802] A new study created in memory with name: no-name-0bf0683e-9fbb-44f3-bce8-f6271db64e80\n"
          ]
        },
        {
          "output_type": "stream",
          "name": "stdout",
          "text": [
            "     test‑AUC = 0.687\n"
          ]
        },
        {
          "output_type": "stream",
          "name": "stderr",
          "text": [
            "[I 2025-04-24 23:00:36,261] Trial 0 finished with value: 0.45454545454545453 and parameters: {'lr_head': 0.0003574712922600243, 'lr_enc': 0.00036808608148776104, 'wd': 0.001205712628744377, 'dropout': 0.23946339367881464, 'unfreeze_n': 1, 'pos_w': 1.3119890406724053, 'epochs': 14}. Best is trial 0 with value: 0.45454545454545453.\n",
            "[I 2025-04-24 23:00:39,785] Trial 1 finished with value: 0.6363636363636362 and parameters: {'lr_head': 0.00190303683817358, 'lr_enc': 4.191711516695204e-05, 'wd': 0.0011114989443094978, 'dropout': 0.008233797718320978, 'unfreeze_n': 2, 'pos_w': 2.6648852816008435, 'epochs': 22}. Best is trial 1 with value: 0.6363636363636362.\n",
            "[I 2025-04-24 23:00:42,532] Trial 2 finished with value: 0.5984848484848485 and parameters: {'lr_head': 0.00018559980846490597, 'lr_enc': 3.1261029103110603e-06, 'wd': 0.0002814509271606064, 'dropout': 0.20990257265289514, 'unfreeze_n': 1, 'pos_w': 1.5824582803960838, 'epochs': 41}. Best is trial 1 with value: 0.6363636363636362.\n",
            "[I 2025-04-24 23:00:46,403] Trial 3 finished with value: 0.7121212121212122 and parameters: {'lr_head': 0.000160712385120399, 'lr_enc': 6.144543785587472e-06, 'wd': 0.0003476649150592621, 'dropout': 0.1824279936868144, 'unfreeze_n': 2, 'pos_w': 1.3993475643167195, 'epochs': 37}. Best is trial 3 with value: 0.7121212121212122.\n",
            "[I 2025-04-24 23:00:50,096] Trial 4 finished with value: 0.36363636363636365 and parameters: {'lr_head': 0.000750011895041699, 'lr_enc': 1.3346527038305937e-06, 'wd': 0.0007896186801026692, 'dropout': 0.06820964947491662, 'unfreeze_n': 1, 'pos_w': 2.8977710745066663, 'epochs': 59}. Best is trial 3 with value: 0.7121212121212122.\n",
            "[I 2025-04-24 23:00:52,193] Trial 5 pruned. \n",
            "[I 2025-04-24 23:00:54,898] Trial 6 finished with value: 0.7727272727272727 and parameters: {'lr_head': 0.00011240768803005555, 'lr_enc': 0.0002845958019429147, 'wd': 0.00024112898115291975, 'dropout': 0.2650089137415928, 'unfreeze_n': 1, 'pos_w': 2.0401360423556216, 'epochs': 38}. Best is trial 6 with value: 0.7727272727272727.\n",
            "[I 2025-04-24 23:00:56,334] Trial 7 pruned. \n",
            "[I 2025-04-24 23:00:59,495] Trial 8 finished with value: 0.6818181818181819 and parameters: {'lr_head': 0.00013511829476450826, 'lr_enc': 3.380273704712438e-06, 'wd': 0.00011662890273931399, 'dropout': 0.13013213230530574, 'unfreeze_n': 1, 'pos_w': 1.5426980635477918, 'epochs': 52}. Best is trial 6 with value: 0.7727272727272727.\n",
            "[I 2025-04-24 23:01:00,939] Trial 9 pruned. \n"
          ]
        },
        {
          "output_type": "stream",
          "name": "stdout",
          "text": [
            "Fold 3 ▶ best val-AUC = 0.773\n"
          ]
        },
        {
          "output_type": "stream",
          "name": "stderr",
          "text": [
            "[I 2025-04-24 23:01:04,081] A new study created in memory with name: no-name-4250f0a0-fc22-4121-8838-63277bc05257\n"
          ]
        },
        {
          "output_type": "stream",
          "name": "stdout",
          "text": [
            "     test‑AUC = 0.673\n"
          ]
        },
        {
          "output_type": "stream",
          "name": "stderr",
          "text": [
            "[I 2025-04-24 23:01:18,684] Trial 0 finished with value: 0.7121212121212122 and parameters: {'lr_head': 0.0003574712922600243, 'lr_enc': 0.00036808608148776104, 'wd': 0.001205712628744377, 'dropout': 0.23946339367881464, 'unfreeze_n': 1, 'pos_w': 1.3119890406724053, 'epochs': 14}. Best is trial 0 with value: 0.7121212121212122.\n",
            "[I 2025-04-24 23:01:21,273] Trial 1 finished with value: 0.7727272727272727 and parameters: {'lr_head': 0.00190303683817358, 'lr_enc': 4.191711516695204e-05, 'wd': 0.0011114989443094978, 'dropout': 0.008233797718320978, 'unfreeze_n': 2, 'pos_w': 2.6648852816008435, 'epochs': 22}. Best is trial 1 with value: 0.7727272727272727.\n",
            "[I 2025-04-24 23:01:24,001] Trial 2 finished with value: 0.5984848484848485 and parameters: {'lr_head': 0.00018559980846490597, 'lr_enc': 3.1261029103110603e-06, 'wd': 0.0002814509271606064, 'dropout': 0.20990257265289514, 'unfreeze_n': 1, 'pos_w': 1.5824582803960838, 'epochs': 41}. Best is trial 1 with value: 0.7727272727272727.\n",
            "[I 2025-04-24 23:01:27,427] Trial 3 finished with value: 0.7272727272727273 and parameters: {'lr_head': 0.000160712385120399, 'lr_enc': 6.144543785587472e-06, 'wd': 0.0003476649150592621, 'dropout': 0.1824279936868144, 'unfreeze_n': 2, 'pos_w': 1.3993475643167195, 'epochs': 37}. Best is trial 1 with value: 0.7727272727272727.\n",
            "[I 2025-04-24 23:01:31,754] Trial 4 finished with value: 0.6590909090909092 and parameters: {'lr_head': 0.000750011895041699, 'lr_enc': 1.3346527038305937e-06, 'wd': 0.0007896186801026692, 'dropout': 0.06820964947491662, 'unfreeze_n': 1, 'pos_w': 2.8977710745066663, 'epochs': 59}. Best is trial 1 with value: 0.7727272727272727.\n",
            "[I 2025-04-24 23:01:33,122] Trial 5 pruned. \n",
            "[I 2025-04-24 23:01:34,733] Trial 6 pruned. \n",
            "[I 2025-04-24 23:01:39,249] Trial 7 finished with value: 0.7803030303030303 and parameters: {'lr_head': 0.00018752209455786411, 'lr_enc': 0.0004138851334163267, 'wd': 0.0013962563737015762, 'dropout': 0.37579957662567565, 'unfreeze_n': 2, 'pos_w': 2.19579995762217, 'epochs': 57}. Best is trial 7 with value: 0.7803030303030303.\n",
            "[I 2025-04-24 23:01:40,785] Trial 8 pruned. \n",
            "[I 2025-04-24 23:01:46,412] Trial 9 finished with value: 0.7424242424242424 and parameters: {'lr_head': 0.0003364867144187955, 'lr_enc': 5.731044951044765e-06, 'wd': 0.000633326877532184, 'dropout': 0.05636968998990506, 'unfreeze_n': 2, 'pos_w': 1.1491012873595416, 'epochs': 60}. Best is trial 7 with value: 0.7803030303030303.\n"
          ]
        },
        {
          "output_type": "stream",
          "name": "stdout",
          "text": [
            "Fold 4 ▶ best val-AUC = 0.780\n"
          ]
        },
        {
          "output_type": "stream",
          "name": "stderr",
          "text": [
            "[I 2025-04-24 23:01:51,449] A new study created in memory with name: no-name-211245db-f8dc-406c-b24e-74a8a3a964cf\n"
          ]
        },
        {
          "output_type": "stream",
          "name": "stdout",
          "text": [
            "     test‑AUC = 0.746\n"
          ]
        },
        {
          "output_type": "stream",
          "name": "stderr",
          "text": [
            "[I 2025-04-24 23:02:05,802] Trial 0 finished with value: 0.8257575757575758 and parameters: {'lr_head': 0.0003574712922600243, 'lr_enc': 0.00036808608148776104, 'wd': 0.001205712628744377, 'dropout': 0.23946339367881464, 'unfreeze_n': 1, 'pos_w': 1.3119890406724053, 'epochs': 14}. Best is trial 0 with value: 0.8257575757575758.\n",
            "[I 2025-04-24 23:02:09,413] Trial 1 finished with value: 0.803030303030303 and parameters: {'lr_head': 0.00190303683817358, 'lr_enc': 4.191711516695204e-05, 'wd': 0.0011114989443094978, 'dropout': 0.008233797718320978, 'unfreeze_n': 2, 'pos_w': 2.6648852816008435, 'epochs': 22}. Best is trial 0 with value: 0.8257575757575758.\n",
            "[I 2025-04-24 23:02:12,132] Trial 2 finished with value: 0.3333333333333333 and parameters: {'lr_head': 0.00018559980846490597, 'lr_enc': 3.1261029103110603e-06, 'wd': 0.0002814509271606064, 'dropout': 0.20990257265289514, 'unfreeze_n': 1, 'pos_w': 1.5824582803960838, 'epochs': 41}. Best is trial 0 with value: 0.8257575757575758.\n",
            "[I 2025-04-24 23:02:15,533] Trial 3 finished with value: 0.8409090909090909 and parameters: {'lr_head': 0.000160712385120399, 'lr_enc': 6.144543785587472e-06, 'wd': 0.0003476649150592621, 'dropout': 0.1824279936868144, 'unfreeze_n': 2, 'pos_w': 1.3993475643167195, 'epochs': 37}. Best is trial 3 with value: 0.8409090909090909.\n",
            "[I 2025-04-24 23:02:18,835] Trial 4 finished with value: 0.5303030303030303 and parameters: {'lr_head': 0.000750011895041699, 'lr_enc': 1.3346527038305937e-06, 'wd': 0.0007896186801026692, 'dropout': 0.06820964947491662, 'unfreeze_n': 1, 'pos_w': 2.8977710745066663, 'epochs': 59}. Best is trial 3 with value: 0.8409090909090909.\n",
            "[I 2025-04-24 23:02:22,403] Trial 5 finished with value: 0.8333333333333334 and parameters: {'lr_head': 0.0015635108708133452, 'lr_enc': 6.639623079859462e-06, 'wd': 0.00013940346079873228, 'dropout': 0.2736932106048628, 'unfreeze_n': 1, 'pos_w': 1.2440764696895577, 'epochs': 36}. Best is trial 3 with value: 0.8409090909090909.\n",
            "[I 2025-04-24 23:02:23,803] Trial 6 pruned. \n",
            "[I 2025-04-24 23:02:28,402] Trial 7 finished with value: 0.8181818181818182 and parameters: {'lr_head': 0.00018752209455786411, 'lr_enc': 0.0004138851334163267, 'wd': 0.0013962563737015762, 'dropout': 0.37579957662567565, 'unfreeze_n': 2, 'pos_w': 2.19579995762217, 'epochs': 57}. Best is trial 3 with value: 0.8409090909090909.\n",
            "[I 2025-04-24 23:02:29,806] Trial 8 pruned. \n",
            "[I 2025-04-24 23:02:31,472] Trial 9 pruned. \n"
          ]
        },
        {
          "output_type": "stream",
          "name": "stdout",
          "text": [
            "Fold 5 ▶ best val-AUC = 0.841\n",
            "     test‑AUC = 0.675\n"
          ]
        }
      ]
    },
    {
      "cell_type": "code",
      "source": [
        "\n",
        "\n",
        "\n",
        "\n",
        "\n",
        "\n",
        "\n",
        "# %% --------------------------- 6 · Summary ---------------------------\n",
        "print(\"\\n⟪ Nested-CV summary ⟫\")\n",
        "for i,a in enumerate(outer_auc,1):\n",
        "    print(f\"Fold {i}: test AUC = {a:.3f}\")\n",
        "print(f\"Mean ± SD → {np.mean(outer_auc):.3f} ± {np.std(outer_auc):.3f}\")\n"
      ],
      "metadata": {
        "colab": {
          "base_uri": "https://localhost:8080/"
        },
        "id": "StWAYDNyzrlM",
        "outputId": "9a14f9dd-d4ec-438c-975c-439f5e7685d9"
      },
      "execution_count": null,
      "outputs": [
        {
          "output_type": "stream",
          "name": "stdout",
          "text": [
            "\n",
            "⟪ Nested-CV summary ⟫\n",
            "Fold 1: test AUC = 0.754\n",
            "Fold 2: test AUC = 0.687\n",
            "Fold 3: test AUC = 0.673\n",
            "Fold 4: test AUC = 0.746\n",
            "Fold 5: test AUC = 0.675\n",
            "Mean ± SD → 0.707 ± 0.036\n"
          ]
        }
      ]
    },
    {
      "cell_type": "code",
      "source": [
        "thr = roc_curve(y_val, y_prob_val)[2][np.argmax(tpr - fpr)]   # Youden\n",
        "y_pred = (y_prob_test >= thr).astype(int)\n",
        "cm = confusion_matrix(y_test, y_pred)\n",
        "sns.heatmap(cm, annot=True, fmt='d', cmap='Blues',\n",
        "            xticklabels=['CN','AD'], yticklabels=['CN','AD'])\n"
      ],
      "metadata": {
        "id": "sDZ63X9VyOjY"
      },
      "execution_count": null,
      "outputs": []
    }
  ]
}